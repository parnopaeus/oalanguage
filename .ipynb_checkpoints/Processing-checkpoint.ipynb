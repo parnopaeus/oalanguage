{
 "cells": [
  {
   "cell_type": "code",
   "execution_count": 1,
   "metadata": {},
   "outputs": [],
   "source": [
    "acrl1 = open('acrl_primary.txt', encoding=\"utf-8\").read()\n",
    "acrl2 = open('acrl_secondary.txt', encoding=\"utf-8\").read()\n",
    "acrl3 = open('acrl_tertiary.txt', encoding=\"utf-8\").read()\n",
    "acrl = acrl1+acrl2+acrl3"
   ]
  },
  {
   "cell_type": "code",
   "execution_count": 2,
   "metadata": {},
   "outputs": [],
   "source": [
    "bmj1 = open('bmj_primary.txt', encoding=\"utf-8\").read()\n",
    "bmj2 = open('bmj_secondary.txt', encoding=\"utf-8\").read()\n",
    "bmj3 = open('bmj_tertiary.txt', encoding=\"utf-8\").read()\n",
    "bmj = bmj1+bmj2+bmj3"
   ]
  },
  {
   "cell_type": "code",
   "execution_count": 3,
   "metadata": {},
   "outputs": [],
   "source": [
    "brill1 = open('brill_primary.txt', encoding=\"utf-8\").read()\n",
    "brill2 = open('brill_secondary.txt', encoding=\"utf-8\").read()\n",
    "brill3 = open('brill_tertiary.txt', encoding=\"utf-8\").read()\n",
    "brill = brill1+brill2+brill3"
   ]
  },
  {
   "cell_type": "code",
   "execution_count": 4,
   "metadata": {},
   "outputs": [],
   "source": [
    "cambridge1 = open('cambridge_primary.txt', encoding=\"utf-8\").read()\n",
    "cambridge2 = open('cambridge_secondary.txt', encoding=\"utf-8\").read()\n",
    "cambridge3 = open('cambridge_tertiary.txt', encoding=\"utf-8\").read()\n",
    "cambridge = cambridge1+cambridge2+cambridge3"
   ]
  },
  {
   "cell_type": "code",
   "execution_count": 5,
   "metadata": {},
   "outputs": [],
   "source": [
    "cornell1 = open('cornell_primary.txt', encoding=\"utf-8\").read()\n",
    "cornell2 = open('cornell_secondary.txt', encoding=\"utf-8\").read()\n",
    "cornell3 = open('cornell_tertiary.txt', encoding=\"utf-8\").read()\n",
    "cornell = cornell1+cornell2+cornell3"
   ]
  },
  {
   "cell_type": "code",
   "execution_count": 6,
   "metadata": {},
   "outputs": [],
   "source": [
    "degruyter1 = open('degruyter_primary.txt', encoding=\"utf-8\").read()\n",
    "degruyter2 = open('degruyter_secondary.txt', encoding=\"utf-8\").read()\n",
    "degruyter3 = open('degruyter_tertiary.txt', encoding=\"utf-8\").read()\n",
    "degruyter = degruyter1+degruyter2+degruyter3"
   ]
  },
  {
   "cell_type": "code",
   "execution_count": 7,
   "metadata": {},
   "outputs": [],
   "source": [
    "elsevier1 = open('elsevier_primary.txt', encoding=\"utf-8\").read()\n",
    "elsevier2 = open('elsevier_secondary.txt', encoding=\"utf-8\").read()\n",
    "elsevier3 = open('elsevier_tertiary.txt', encoding=\"utf-8\").read()\n",
    "elsevier = elsevier1+elsevier2+elsevier3"
   ]
  },
  {
   "cell_type": "code",
   "execution_count": 8,
   "metadata": {},
   "outputs": [],
   "source": [
    "harvard1 = open('harvard_primary.txt', encoding=\"utf-8\").read()\n",
    "harvard2 = open('harvard_secondary.txt', encoding=\"utf-8\").read()\n",
    "harvard3 = open('harvard_tertiary.txt', encoding=\"utf-8\").read()\n",
    "harvard = harvard1+harvard2+harvard3"
   ]
  },
  {
   "cell_type": "code",
   "execution_count": 9,
   "metadata": {},
   "outputs": [],
   "source": [
    "iop1 = open('iop_primary.txt', encoding=\"utf-8\").read()\n",
    "iop2 = open('iop_secondary.txt', encoding=\"utf-8\").read()\n",
    "iop3 = open('iop_tertiary.txt', encoding=\"utf-8\").read()\n",
    "iop = iop1+iop2+iop3"
   ]
  },
  {
   "cell_type": "code",
   "execution_count": 10,
   "metadata": {},
   "outputs": [],
   "source": [
    "ku1 = open('ku_primary.txt', encoding=\"utf-8\").read()\n",
    "ku2 = open('ku_secondary.txt', encoding=\"utf-8\").read()\n",
    "ku3 = open('ku_tertiary.txt', encoding=\"utf-8\").read()\n",
    "ku = ku1+ku2+ku3"
   ]
  },
  {
   "cell_type": "code",
   "execution_count": 11,
   "metadata": {},
   "outputs": [],
   "source": [
    "mit1 = open('mit_primary.txt', encoding=\"utf-8\").read()\n",
    "mit2 = open('mit_secondary.txt', encoding=\"utf-8\").read()\n",
    "mit3 = open('mit_tertiary.txt', encoding=\"utf-8\").read()\n",
    "mit = mit1+mit2+mit3"
   ]
  },
  {
   "cell_type": "code",
   "execution_count": 12,
   "metadata": {},
   "outputs": [],
   "source": [
    "nature1 = open('nature_primary.txt', encoding=\"utf-8\").read()\n",
    "nature2 = open('nature_secondary.txt', encoding=\"utf-8\").read()\n",
    "nature3 = open('nature_tertiary.txt', encoding=\"utf-8\").read()\n",
    "nature = nature1+nature2+nature3"
   ]
  },
  {
   "cell_type": "code",
   "execution_count": 13,
   "metadata": {},
   "outputs": [],
   "source": [
    "oawg1 = open('oawg_primary.txt', encoding=\"utf-8\").read()\n",
    "oawg2 = open('oawg_secondary.txt', encoding=\"utf-8\").read()\n",
    "oawg3 = open('oawg_tertiary.txt', encoding=\"utf-8\").read()\n",
    "oawg = oawg1+oawg2+oawg3"
   ]
  },
  {
   "cell_type": "code",
   "execution_count": 14,
   "metadata": {},
   "outputs": [],
   "source": [
    "plos1 = open('plos_primary.txt', encoding=\"utf-8\").read()\n",
    "plos2 = open('plos_secondary.txt', encoding=\"utf-8\").read()\n",
    "plos3 = open('plos_tertiary.txt', encoding=\"utf-8\").read()\n",
    "plos = plos1+plos2+plos3"
   ]
  },
  {
   "cell_type": "code",
   "execution_count": 15,
   "metadata": {},
   "outputs": [],
   "source": [
    "oxford1 = open('oxford_primary.txt', encoding=\"utf-8\").read()\n",
    "oxford2 = open('oxford_secondary.txt', encoding=\"utf-8\").read()\n",
    "oxford3 = open('oxford_tertiary.txt', encoding=\"utf-8\").read()\n",
    "oxford = oxford1+oxford2+oxford3"
   ]
  },
  {
   "cell_type": "code",
   "execution_count": 16,
   "metadata": {},
   "outputs": [],
   "source": [
    "RTRC1 = open('RTRC_primary.txt', encoding=\"utf-8\").read()\n",
    "RTRC2 = open('RTRC_secondary.txt', encoding=\"utf-8\").read()\n",
    "RTRC3 = open('RTRC_tertiary.txt', encoding=\"utf-8\").read()\n",
    "RTRC = RTRC1+RTRC2+RTRC3"
   ]
  },
  {
   "cell_type": "code",
   "execution_count": 17,
   "metadata": {},
   "outputs": [],
   "source": [
    "sherpa1 = open('sherpa_primary.txt', encoding=\"utf-8\").read()\n",
    "sherpa2 = open('sherpa_secondary.txt', encoding=\"utf-8\").read()\n",
    "sherpa3 = open('sherpa_tertiary.txt', encoding=\"utf-8\").read()\n",
    "sherpa = sherpa1+sherpa2+sherpa3"
   ]
  },
  {
   "cell_type": "code",
   "execution_count": 18,
   "metadata": {},
   "outputs": [],
   "source": [
    "sage1 = open('sage_primary.txt', encoding=\"utf-8\").read()\n",
    "sage2 = open('sage_secondary.txt', encoding=\"utf-8\").read()\n",
    "sage3 = open('sage_tertiary.txt', encoding=\"utf-8\").read()\n",
    "sage = sage1+sage2+sage3"
   ]
  },
  {
   "cell_type": "code",
   "execution_count": 19,
   "metadata": {},
   "outputs": [],
   "source": [
    "sparc1 = open('sparc_primary.txt', encoding=\"utf-8\").read()\n",
    "sparc2 = open('sparc_secondary.txt', encoding=\"utf-8\").read()\n",
    "sparc3 = open('sparc_tertiary.txt', encoding=\"utf-8\").read()\n",
    "sparc = sparc1+sparc2+sparc3"
   ]
  },
  {
   "cell_type": "code",
   "execution_count": 20,
   "metadata": {},
   "outputs": [],
   "source": [
    "springer1 = open('springer_primary.txt', encoding=\"utf-8\").read()\n",
    "springer2 = open('springer_secondary.txt', encoding=\"utf-8\").read()\n",
    "springer3 = open('springer_tertiary.txt', encoding=\"utf-8\").read()\n",
    "springer = springer1+springer2+springer3"
   ]
  },
  {
   "cell_type": "code",
   "execution_count": 21,
   "metadata": {},
   "outputs": [],
   "source": [
    "tf1 = open('tf_primary.txt', encoding=\"utf-8\").read()\n",
    "tf2 = open('tf_secondary.txt', encoding=\"utf-8\").read()\n",
    "tf3 = open('tf_tertiary.txt', encoding=\"utf-8\").read()\n",
    "tf = tf1+tf2+tf3"
   ]
  },
  {
   "cell_type": "code",
   "execution_count": 22,
   "metadata": {},
   "outputs": [],
   "source": [
    "wiley1 = open('wiley_primary.txt', encoding=\"utf-8\").read()\n",
    "wiley2 = open('wiley_secondary.txt', encoding=\"utf-8\").read()\n",
    "wiley3 = open('wiley_tertiary.txt', encoding=\"utf-8\").read()\n",
    "wiley = wiley1+wiley2+wiley3"
   ]
  },
  {
   "cell_type": "code",
   "execution_count": 23,
   "metadata": {},
   "outputs": [],
   "source": [
    "boai1 = open('boai_primary.txt', encoding=\"utf-8\").read()\n",
    "boai2 = open('boai_secondary.txt', encoding=\"utf-8\").read()\n",
    "boai = boai1+boai2"
   ]
  },
  {
   "cell_type": "code",
   "execution_count": 24,
   "metadata": {},
   "outputs": [],
   "source": [
    "hindawi1 = open('hindawi_primary.txt', encoding=\"utf-8\").read()\n",
    "hindawi2 = open('hindawi_tertiary.txt', encoding=\"utf-8\").read()\n",
    "hindawi = hindawi1+hindawi2"
   ]
  },
  {
   "cell_type": "code",
   "execution_count": 25,
   "metadata": {},
   "outputs": [],
   "source": [
    "proquest1 = open('proquest_primary.txt', encoding=\"utf-8\").read()\n",
    "proquest2 = open('proquest_secondary.txt', encoding=\"utf-8\").read()\n",
    "proquest = proquest1+proquest2"
   ]
  },
  {
   "cell_type": "code",
   "execution_count": 26,
   "metadata": {},
   "outputs": [],
   "source": [
    "creativecommons = open('creativecommons_primary.txt', encoding=\"utf-8\").read()"
   ]
  },
  {
   "cell_type": "code",
   "execution_count": 27,
   "metadata": {},
   "outputs": [],
   "source": [
    "suber = open('suber_primary.txt', encoding=\"utf-8\").read()"
   ]
  },
  {
   "cell_type": "code",
   "execution_count": 28,
   "metadata": {},
   "outputs": [],
   "source": [
    "wikipedia = open('wikipedia_primary.txt', encoding=\"utf-8\").read()"
   ]
  },
  {
   "cell_type": "code",
   "execution_count": 33,
   "metadata": {},
   "outputs": [
    {
     "data": {
      "text/plain": [
       "93"
      ]
     },
     "execution_count": 33,
     "metadata": {},
     "output_type": "execute_result"
    }
   ],
   "source": [
    "acrl.count('href')"
   ]
  },
  {
   "cell_type": "code",
   "execution_count": 34,
   "metadata": {},
   "outputs": [
    {
     "data": {
      "text/plain": [
       "199"
      ]
     },
     "execution_count": 34,
     "metadata": {},
     "output_type": "execute_result"
    }
   ],
   "source": [
    "boai.count(\"href\")"
   ]
  },
  {
   "cell_type": "code",
   "execution_count": 35,
   "metadata": {},
   "outputs": [
    {
     "data": {
      "text/plain": [
       "51"
      ]
     },
     "execution_count": 35,
     "metadata": {},
     "output_type": "execute_result"
    }
   ],
   "source": [
    "brill.count(\"href\")"
   ]
  },
  {
   "cell_type": "code",
   "execution_count": 40,
   "metadata": {},
   "outputs": [
    {
     "data": {
      "text/plain": [
       "91"
      ]
     },
     "execution_count": 40,
     "metadata": {},
     "output_type": "execute_result"
    }
   ],
   "source": [
    "elsevier.count(\"href\")"
   ]
  },
  {
   "cell_type": "code",
   "execution_count": 41,
   "metadata": {},
   "outputs": [
    {
     "data": {
      "text/plain": [
       "64"
      ]
     },
     "execution_count": 41,
     "metadata": {},
     "output_type": "execute_result"
    }
   ],
   "source": [
    "springer.count(\"href\")"
   ]
  },
  {
   "cell_type": "code",
   "execution_count": 42,
   "metadata": {},
   "outputs": [
    {
     "data": {
      "text/plain": [
       "56"
      ]
     },
     "execution_count": 42,
     "metadata": {},
     "output_type": "execute_result"
    }
   ],
   "source": [
    "sage.count(\"href\")"
   ]
  },
  {
   "cell_type": "code",
   "execution_count": 43,
   "metadata": {},
   "outputs": [
    {
     "data": {
      "text/plain": [
       "44"
      ]
     },
     "execution_count": 43,
     "metadata": {},
     "output_type": "execute_result"
    }
   ],
   "source": [
    "iop.count(\"href\")"
   ]
  },
  {
   "cell_type": "code",
   "execution_count": 44,
   "metadata": {},
   "outputs": [
    {
     "data": {
      "text/plain": [
       "49"
      ]
     },
     "execution_count": 44,
     "metadata": {},
     "output_type": "execute_result"
    }
   ],
   "source": [
    "cambridge.count(\"href\")"
   ]
  },
  {
   "cell_type": "code",
   "execution_count": 45,
   "metadata": {},
   "outputs": [
    {
     "data": {
      "text/plain": [
       "2"
      ]
     },
     "execution_count": 45,
     "metadata": {},
     "output_type": "execute_result"
    }
   ],
   "source": [
    "proquest.count(\"href\")"
   ]
  },
  {
   "cell_type": "code",
   "execution_count": 46,
   "metadata": {},
   "outputs": [
    {
     "data": {
      "text/plain": [
       "5552"
      ]
     },
     "execution_count": 46,
     "metadata": {},
     "output_type": "execute_result"
    }
   ],
   "source": [
    "tf.count(\"href\")"
   ]
  },
  {
   "cell_type": "code",
   "execution_count": 47,
   "metadata": {},
   "outputs": [
    {
     "data": {
      "text/plain": [
       "148"
      ]
     },
     "execution_count": 47,
     "metadata": {},
     "output_type": "execute_result"
    }
   ],
   "source": [
    "oxford.count(\"href\")"
   ]
  },
  {
   "cell_type": "code",
   "execution_count": 48,
   "metadata": {},
   "outputs": [
    {
     "data": {
      "text/plain": [
       "69"
      ]
     },
     "execution_count": 48,
     "metadata": {},
     "output_type": "execute_result"
    }
   ],
   "source": [
    "nature.count(\"href\")"
   ]
  },
  {
   "cell_type": "code",
   "execution_count": 49,
   "metadata": {},
   "outputs": [
    {
     "data": {
      "text/plain": [
       "26"
      ]
     },
     "execution_count": 49,
     "metadata": {},
     "output_type": "execute_result"
    }
   ],
   "source": [
    "wiley.count(\"href\")"
   ]
  },
  {
   "cell_type": "code",
   "execution_count": 50,
   "metadata": {},
   "outputs": [
    {
     "data": {
      "text/plain": [
       "122"
      ]
     },
     "execution_count": 50,
     "metadata": {},
     "output_type": "execute_result"
    }
   ],
   "source": [
    "degruyter.count(\"href\")"
   ]
  },
  {
   "cell_type": "code",
   "execution_count": 51,
   "metadata": {},
   "outputs": [
    {
     "data": {
      "text/plain": [
       "27"
      ]
     },
     "execution_count": 51,
     "metadata": {},
     "output_type": "execute_result"
    }
   ],
   "source": [
    "bmj.count(\"href\")"
   ]
  },
  {
   "cell_type": "code",
   "execution_count": 52,
   "metadata": {},
   "outputs": [
    {
     "data": {
      "text/plain": [
       "7"
      ]
     },
     "execution_count": 52,
     "metadata": {},
     "output_type": "execute_result"
    }
   ],
   "source": [
    "hindawi.count(\"href\")"
   ]
  },
  {
   "cell_type": "code",
   "execution_count": 53,
   "metadata": {},
   "outputs": [
    {
     "data": {
      "text/plain": [
       "24"
      ]
     },
     "execution_count": 53,
     "metadata": {},
     "output_type": "execute_result"
    }
   ],
   "source": [
    "sparc.count(\"href\")"
   ]
  },
  {
   "cell_type": "code",
   "execution_count": 54,
   "metadata": {},
   "outputs": [
    {
     "data": {
      "text/plain": [
       "331"
      ]
     },
     "execution_count": 54,
     "metadata": {},
     "output_type": "execute_result"
    }
   ],
   "source": [
    "harvard.count(\"href\")"
   ]
  },
  {
   "cell_type": "code",
   "execution_count": 57,
   "metadata": {},
   "outputs": [
    {
     "data": {
      "text/plain": [
       "188"
      ]
     },
     "execution_count": 57,
     "metadata": {},
     "output_type": "execute_result"
    }
   ],
   "source": [
    "RTRC.count(\"href\")"
   ]
  },
  {
   "cell_type": "code",
   "execution_count": 58,
   "metadata": {},
   "outputs": [
    {
     "data": {
      "text/plain": [
       "150"
      ]
     },
     "execution_count": 58,
     "metadata": {},
     "output_type": "execute_result"
    }
   ],
   "source": [
    "suber.count(\"href\")"
   ]
  },
  {
   "cell_type": "code",
   "execution_count": 59,
   "metadata": {},
   "outputs": [
    {
     "data": {
      "text/plain": [
       "93"
      ]
     },
     "execution_count": 59,
     "metadata": {},
     "output_type": "execute_result"
    }
   ],
   "source": [
    "cornell.count(\"href\")"
   ]
  },
  {
   "cell_type": "code",
   "execution_count": 60,
   "metadata": {},
   "outputs": [
    {
     "data": {
      "text/plain": [
       "42"
      ]
     },
     "execution_count": 60,
     "metadata": {},
     "output_type": "execute_result"
    }
   ],
   "source": [
    "ku.count(\"href\")"
   ]
  },
  {
   "cell_type": "code",
   "execution_count": 61,
   "metadata": {},
   "outputs": [
    {
     "data": {
      "text/plain": [
       "416"
      ]
     },
     "execution_count": 61,
     "metadata": {},
     "output_type": "execute_result"
    }
   ],
   "source": [
    "wikipedia.count(\"href\")"
   ]
  },
  {
   "cell_type": "code",
   "execution_count": 62,
   "metadata": {},
   "outputs": [
    {
     "data": {
      "text/plain": [
       "10"
      ]
     },
     "execution_count": 62,
     "metadata": {},
     "output_type": "execute_result"
    }
   ],
   "source": [
    "creativecommons.count(\"href\")"
   ]
  },
  {
   "cell_type": "code",
   "execution_count": 63,
   "metadata": {},
   "outputs": [
    {
     "data": {
      "text/plain": [
       "38"
      ]
     },
     "execution_count": 63,
     "metadata": {},
     "output_type": "execute_result"
    }
   ],
   "source": [
    "oawg.count(\"href\")"
   ]
  },
  {
   "cell_type": "code",
   "execution_count": 64,
   "metadata": {},
   "outputs": [
    {
     "data": {
      "text/plain": [
       "153"
      ]
     },
     "execution_count": 64,
     "metadata": {},
     "output_type": "execute_result"
    }
   ],
   "source": [
    "mit.count(\"href\")"
   ]
  },
  {
   "cell_type": "code",
   "execution_count": 65,
   "metadata": {},
   "outputs": [
    {
     "data": {
      "text/plain": [
       "74"
      ]
     },
     "execution_count": 65,
     "metadata": {},
     "output_type": "execute_result"
    }
   ],
   "source": [
    "sherpa.count(\"href\")"
   ]
  },
  {
   "cell_type": "code",
   "execution_count": 66,
   "metadata": {},
   "outputs": [
    {
     "data": {
      "text/plain": [
       "50"
      ]
     },
     "execution_count": 66,
     "metadata": {},
     "output_type": "execute_result"
    }
   ],
   "source": [
    "plos.count(\"href\")"
   ]
  },
  {
   "cell_type": "code",
   "execution_count": null,
   "metadata": {},
   "outputs": [],
   "source": []
  }
 ],
 "metadata": {
  "kernelspec": {
   "display_name": "Python 3",
   "language": "python",
   "name": "python3"
  },
  "language_info": {
   "codemirror_mode": {
    "name": "ipython",
    "version": 3
   },
   "file_extension": ".py",
   "mimetype": "text/x-python",
   "name": "python",
   "nbconvert_exporter": "python",
   "pygments_lexer": "ipython3",
   "version": "3.7.1"
  }
 },
 "nbformat": 4,
 "nbformat_minor": 2
}

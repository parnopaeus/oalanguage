{
 "cells": [
  {
   "cell_type": "code",
   "execution_count": 1,
   "metadata": {},
   "outputs": [],
   "source": [
    "import os\n",
    "os.chdir('press')"
   ]
  },
  {
   "cell_type": "code",
   "execution_count": 2,
   "metadata": {},
   "outputs": [],
   "source": [
    "acm = open('acm-four-20.txt', encoding=\"utf-8\").read()\n",
    "bio = open('bio-uc-21.txt', encoding=\"utf-8\").read()\n",
    "elsevier = open ('elsevier-sweden-19.txt', encoding=\"utf-8\").read()\n",
    "rs = open('rs-mp-20.txt', encoding=\"utf-8\").read()\n",
    "sage = open('sage-germany-21.txt', encoding=\"utf-8\").read()\n",
    "springer = open('springer-uc-20.txt', encoding=\"utf-8\").read()\n"
   ]
  },
  {
   "cell_type": "code",
   "execution_count": 3,
   "metadata": {},
   "outputs": [],
   "source": [
    "presslist = [(\"ACM\", acm), (\"BIO\", bio), (\"ELSEVIER\", elsevier), (\"ROYAL SOCIETY\", rs), (\"SAGE\", sage), (\"SPRINGER\", springer)]"
   ]
  },
  {
   "cell_type": "code",
   "execution_count": 4,
   "metadata": {},
   "outputs": [],
   "source": [
    "import textstat"
   ]
  },
  {
   "cell_type": "code",
   "execution_count": 5,
   "metadata": {
    "scrolled": true
   },
   "outputs": [
    {
     "name": "stdout",
     "output_type": "stream",
     "text": [
      "ACM, 980 , 18\n",
      "BIO, 930 , 18\n",
      "ELSEVIER, 908 , 23\n",
      "ROYAL SOCIETY, 377 , 5\n",
      "SAGE, 509 , 11\n",
      "SPRINGER, 1230 , 14\n"
     ]
    }
   ],
   "source": [
    "for (pressname, press) in presslist: \n",
    "    print(pressname+\",\", textstat.lexicon_count(press, removepunct=True),\",\", textstat.sentence_count(press))"
   ]
  },
  {
   "cell_type": "code",
   "execution_count": 6,
   "metadata": {},
   "outputs": [],
   "source": [
    "import textstat"
   ]
  },
  {
   "cell_type": "code",
   "execution_count": 7,
   "metadata": {},
   "outputs": [
    {
     "name": "stdout",
     "output_type": "stream",
     "text": [
      "ACM, 23.0 , -0.67 , 27.0\n",
      "BIO, 21.5 , 2.08 , 25.0\n",
      "ELSEVIER, 18.9 , 22.92 , 20.0\n",
      "ROYAL SOCIETY, 24.7 , -5.07 , 33.0\n",
      "SAGE, 20.1 , 7.56 , 24.0\n",
      "SPRINGER, 25.2 , -26.21 , 39.0\n"
     ]
    }
   ],
   "source": [
    "for (pressname, press) in presslist: \n",
    "    print (pressname+\",\", textstat.smog_index(press), \",\", textstat.flesch_reading_ease(press), \",\", textstat.text_standard(press, float_output=True))"
   ]
  },
  {
   "cell_type": "code",
   "execution_count": null,
   "metadata": {},
   "outputs": [],
   "source": []
  }
 ],
 "metadata": {
  "kernelspec": {
   "display_name": "Python 3",
   "language": "python",
   "name": "python3"
  },
  "language_info": {
   "codemirror_mode": {
    "name": "ipython",
    "version": 3
   },
   "file_extension": ".py",
   "mimetype": "text/x-python",
   "name": "python",
   "nbconvert_exporter": "python",
   "pygments_lexer": "ipython3",
   "version": "3.8.5"
  }
 },
 "nbformat": 4,
 "nbformat_minor": 4
}

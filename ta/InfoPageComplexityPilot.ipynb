{
 "cells": [
  {
   "cell_type": "code",
   "execution_count": 1,
   "metadata": {},
   "outputs": [],
   "source": [
    "import os\n",
    "os.chdir('info')"
   ]
  },
  {
   "cell_type": "code",
   "execution_count": 3,
   "metadata": {},
   "outputs": [],
   "source": [
    "acmcmu = open('acm-cmu-newsfaq.txt', encoding=\"utf-8\").read()\n",
    "acmuc = open('acm-uc-info.txt', encoding=\"utf-8\").read()\n",
    "acmiowa = open('iowast-all-info.txt', encoding=\"utf-8\").read()"
   ]
  },
  {
   "cell_type": "code",
   "execution_count": 4,
   "metadata": {},
   "outputs": [],
   "source": [
    "infolist = [(\"ACM-CMU\", acmcmu), (\"ACM-UC\", acmuc), (\"ACM-IOWA\", acmiowa)]"
   ]
  },
  {
   "cell_type": "code",
   "execution_count": 5,
   "metadata": {},
   "outputs": [],
   "source": [
    "import textstat"
   ]
  },
  {
   "cell_type": "code",
   "execution_count": 6,
   "metadata": {},
   "outputs": [
    {
     "name": "stdout",
     "output_type": "stream",
     "text": [
      "ACM-CMU, 1192 , 21\n",
      "ACM-UC, 2273 , 24\n",
      "ACM-IOWA, 876 , 17\n"
     ]
    }
   ],
   "source": [
    "for (infoname, name) in infolist: \n",
    "    print(infoname+\",\", textstat.lexicon_count(name, removepunct=True),\",\", textstat.sentence_count(name))"
   ]
  },
  {
   "cell_type": "code",
   "execution_count": 8,
   "metadata": {},
   "outputs": [
    {
     "name": "stdout",
     "output_type": "stream",
     "text": [
      "ACM-CMU, 21.2 , 5.36 , 27.0\n",
      "ACM-UC, 26.0 , -33.12 , 41.0\n",
      "ACM-IOWA, 20.3 , 10.74 , 25.0\n"
     ]
    }
   ],
   "source": [
    "for (infoname, name) in infolist: \n",
    "    print (infoname+\",\", textstat.smog_index(name), \",\", textstat.flesch_reading_ease(name), \",\", textstat.text_standard(name, float_output=True))"
   ]
  },
  {
   "cell_type": "code",
   "execution_count": null,
   "metadata": {},
   "outputs": [],
   "source": []
  }
 ],
 "metadata": {
  "kernelspec": {
   "display_name": "Python 3",
   "language": "python",
   "name": "python3"
  },
  "language_info": {
   "codemirror_mode": {
    "name": "ipython",
    "version": 3
   },
   "file_extension": ".py",
   "mimetype": "text/x-python",
   "name": "python",
   "nbconvert_exporter": "python",
   "pygments_lexer": "ipython3",
   "version": "3.8.5"
  }
 },
 "nbformat": 4,
 "nbformat_minor": 4
}
